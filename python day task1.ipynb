{
  "nbformat": 4,
  "nbformat_minor": 0,
  "metadata": {
    "colab": {
      "provenance": [],
      "authorship_tag": "ABX9TyNTuZ9WQeQ1BTP9f9DZZWIK",
      "include_colab_link": true
    },
    "kernelspec": {
      "name": "python3",
      "display_name": "Python 3"
    },
    "language_info": {
      "name": "python"
    }
  },
  "cells": [
    {
      "cell_type": "markdown",
      "metadata": {
        "id": "view-in-github",
        "colab_type": "text"
      },
      "source": [
        "<a href=\"https://colab.research.google.com/github/22AD040/CODSOFT/blob/main/python%20day%20task1.ipynb\" target=\"_parent\"><img src=\"https://colab.research.google.com/assets/colab-badge.svg\" alt=\"Open In Colab\"/></a>"
      ]
    },
    {
      "cell_type": "code",
      "execution_count": 2,
      "metadata": {
        "colab": {
          "base_uri": "https://localhost:8080/"
        },
        "id": "TpXtmvyqQW5z",
        "outputId": "0219fa51-8cf6-4a1c-f0da-71466dd7cb57"
      },
      "outputs": [
        {
          "output_type": "stream",
          "name": "stdout",
          "text": [
            "After adding 50 and 60: [11, 12, 13, 14, 50, 60]\n",
            "After removing 11 and 13: [12, 14, 50, 60]\n",
            "Sorted in ascending order: [12, 14, 50, 60]\n",
            "Sorted in descending order: [60, 50, 14, 12]\n",
            "13 is not present in L.\n",
            "Number of elements in L: 4\n",
            "Sum of all elements in L: 136\n",
            "Sum of all odd numbers in L: 0\n",
            "Sum of all even numbers in L: 136\n",
            "Sum of all prime numbers in L: 0\n",
            "After clearing all elements, L: []\n",
            "L is deleted.\n"
          ]
        }
      ],
      "source": [
        "L = [11, 12, 13, 14]\n",
        "\n",
        "# (i)\n",
        "L.extend([50, 60])\n",
        "print(\"After adding 50 and 60:\", L)\n",
        "\n",
        "# (ii)\n",
        "L = [elem for elem in L if elem not in [11, 13]]\n",
        "print(\"After removing 11 and 13:\", L)\n",
        "\n",
        "# (iii)\n",
        "L.sort()\n",
        "print(\"Sorted in ascending order:\", L)\n",
        "\n",
        "# (iv)\n",
        "L.sort(reverse=True)\n",
        "print(\"Sorted in descending order:\", L)\n",
        "\n",
        "# (v)\n",
        "if 13 in L:\n",
        "    print(\"13 is present in L.\")\n",
        "else:\n",
        "    print(\"13 is not present in L.\")\n",
        "\n",
        "# (vi)\n",
        "count = len(L)\n",
        "print(\"Number of elements in L:\", count)\n",
        "\n",
        "# (vii)\n",
        "sum_all = sum(L)\n",
        "print(\"Sum of all elements in L:\", sum_all)\n",
        "\n",
        "# (viii)\n",
        "sum_odd = sum([num for num in L if num % 2 != 0])\n",
        "print(\"Sum of all odd numbers in L:\", sum_odd)\n",
        "\n",
        "# (ix)\n",
        "sum_even = sum([num for num in L if num % 2 == 0])\n",
        "print(\"Sum of all even numbers in L:\", sum_even)\n",
        "\n",
        "# (x)\n",
        "def is_prime(n):\n",
        "    if n <= 1:\n",
        "        return False\n",
        "    if n == 2:\n",
        "        return True\n",
        "    if n % 2 == 0:\n",
        "        return False\n",
        "    i = 3\n",
        "    while i * i <= n:\n",
        "        if n % i == 0:\n",
        "            return False\n",
        "        i += 2\n",
        "    return True\n",
        "\n",
        "sum_prime = sum([num for num in L if is_prime(num)])\n",
        "print(\"Sum of all prime numbers in L:\", sum_prime)\n",
        "\n",
        "# (xi)\n",
        "L.clear()\n",
        "print(\"After clearing all elements, L:\", L)\n",
        "\n",
        "# (xii)\n",
        "del L\n",
        "print(\"L is deleted.\")\n"
      ]
    },
    {
      "cell_type": "code",
      "source": [
        "D = {1: 5.6, 2: 7.8, 3: 6.6, 4: 8.7, 5: 7.7}\n",
        "\n",
        "# (i)\n",
        "D[8] = 8.8\n",
        "print(\"After adding new entry (8: 8.8):\", D)\n",
        "\n",
        "# (ii)\n",
        "if 2 in D:\n",
        "    del D[2]\n",
        "    print(\"After removing key 2:\", D)\n",
        "else:\n",
        "    print(\"Key 2 not found in dictionary.\")\n",
        "\n",
        "# (iii)\n",
        "if 6 in D:\n",
        "    print(\"Key 6 is present in dictionary.\")\n",
        "else:\n",
        "    print(\"Key 6 is not present in dictionary.\")\n",
        "\n",
        "# (iv)\n",
        "count_elements = len(D)\n",
        "print(\"Number of elements in D:\", count_elements)\n",
        "\n",
        "# (v)\n",
        "sum_values = sum(D.values())\n",
        "print(\"Sum of all values in D:\", sum_values)\n",
        "\n",
        "# (vi)\n",
        "if 3 in D:\n",
        "    D[3] = 7.1\n",
        "    print(\"After updating value of key 3 to 7.1:\", D)\n",
        "else:\n",
        "    print(\"Key 3 not found in dictionary.\")\n",
        "\n",
        "# (vii)\n",
        "D.clear()\n",
        "print(\"After clearing the dictionary, D:\", D)\n"
      ],
      "metadata": {
        "colab": {
          "base_uri": "https://localhost:8080/"
        },
        "id": "l0l8tM02RCws",
        "outputId": "70c79d1f-16f4-41ab-dcd6-486e4ea3a417"
      },
      "execution_count": 3,
      "outputs": [
        {
          "output_type": "stream",
          "name": "stdout",
          "text": [
            "After adding new entry (8: 8.8): {1: 5.6, 2: 7.8, 3: 6.6, 4: 8.7, 5: 7.7, 8: 8.8}\n",
            "After removing key 2: {1: 5.6, 3: 6.6, 4: 8.7, 5: 7.7, 8: 8.8}\n",
            "Key 6 is not present in dictionary.\n",
            "Number of elements in D: 5\n",
            "Sum of all values in D: 37.4\n",
            "After updating value of key 3 to 7.1: {1: 5.6, 3: 7.1, 4: 8.7, 5: 7.7, 8: 8.8}\n",
            "After clearing the dictionary, D: {}\n"
          ]
        }
      ]
    },
    {
      "cell_type": "code",
      "source": [
        "S1 = {10, 20, 30, 40, 50, 60}\n",
        "S2 = {40, 50, 60, 70, 80, 90}\n",
        "\n",
        "# (i)\n",
        "S1.add(55)\n",
        "S1.add(66)\n",
        "print(\"After adding 55 and 66 in S1:\", S1)\n",
        "\n",
        "# (ii)\n",
        "S1.discard(10)\n",
        "S1.discard(30)\n",
        "print(\"After removing 10 and 30 from S1:\", S1)\n",
        "\n",
        "# (iii)\n",
        "if 40 in S1:\n",
        "    print(\"40 is present in S1.\")\n",
        "else:\n",
        "    print(\"40 is not present in S1.\")\n",
        "\n",
        "# (iv)\n",
        "union_set = S1.union(S2)\n",
        "print(\"Union of S1 and S2:\", union_set)\n",
        "\n",
        "# (v)\n",
        "intersection_set = S1.intersection(S2)\n",
        "print(\"Intersection of S1 and S2:\", intersection_set)\n",
        "\n",
        "# (vi)\n",
        "difference_set = S1 - S2\n",
        "print(\"S1 - S2 (difference):\", difference_set)\n"
      ],
      "metadata": {
        "colab": {
          "base_uri": "https://localhost:8080/"
        },
        "id": "pIsWfZQuRrMy",
        "outputId": "52b3f1e8-d7d8-4701-f13b-d62c8e1a181d"
      },
      "execution_count": 4,
      "outputs": [
        {
          "output_type": "stream",
          "name": "stdout",
          "text": [
            "After adding 55 and 66 in S1: {50, 66, 20, 55, 40, 10, 60, 30}\n",
            "After removing 10 and 30 from S1: {50, 66, 20, 55, 40, 60}\n",
            "40 is present in S1.\n",
            "Union of S1 and S2: {66, 70, 40, 80, 50, 20, 55, 90, 60}\n",
            "Intersection of S1 and S2: {40, 50, 60}\n",
            "S1 - S2 (difference): {66, 20, 55}\n"
          ]
        }
      ]
    },
    {
      "cell_type": "code",
      "source": [
        "#(i)\n",
        "import random\n",
        "import string\n",
        "\n",
        "def generate_random_string(length):\n",
        "    letters = string.ascii_lowercase\n",
        "    return ''.join(random.choice(letters) for _ in range(length))\n",
        "\n",
        "count = 100\n",
        "for _ in range(count):\n",
        "    length = random.randint(6, 8)\n",
        "    random_string = generate_random_string(length)\n",
        "    print(random_string)\n"
      ],
      "metadata": {
        "colab": {
          "base_uri": "https://localhost:8080/"
        },
        "id": "7_VUDDxoR2f_",
        "outputId": "750ee351-f418-49bd-e1eb-372e1da082d9"
      },
      "execution_count": 5,
      "outputs": [
        {
          "output_type": "stream",
          "name": "stdout",
          "text": [
            "wdquavw\n",
            "atkgvn\n",
            "guopqt\n",
            "wrpldwe\n",
            "oawudist\n",
            "epaaaiz\n",
            "mamyhc\n",
            "ohrdtfn\n",
            "mhoill\n",
            "ikclegb\n",
            "staffmpr\n",
            "bhciqfnt\n",
            "akfvlx\n",
            "uszsovfm\n",
            "naznhmob\n",
            "kdqzps\n",
            "bxknzl\n",
            "rljppw\n",
            "xnbtrmut\n",
            "wywfhlh\n",
            "ytzcuyh\n",
            "dtqmzk\n",
            "blfvovo\n",
            "mssmsgle\n",
            "yutnxw\n",
            "fhlltatp\n",
            "tjmkrmom\n",
            "vydshalu\n",
            "ygnteh\n",
            "zbmsgy\n",
            "ifuhpqn\n",
            "otcaliff\n",
            "ojmwrfnz\n",
            "bpxmudvz\n",
            "igwsqz\n",
            "rbubsuxr\n",
            "xjymxxbq\n",
            "eoolhth\n",
            "iwunmp\n",
            "yfpube\n",
            "cudabw\n",
            "wfcznmf\n",
            "uwfejxgc\n",
            "yvwsvtbj\n",
            "kfoadyzc\n",
            "kejexgv\n",
            "olfuvfo\n",
            "tscjfce\n",
            "ojfyhwg\n",
            "sqctwk\n",
            "antunww\n",
            "yyiuhsn\n",
            "hzecsyxf\n",
            "rfogeeyr\n",
            "hjqgqz\n",
            "nwhbxa\n",
            "nqwjdsm\n",
            "kwrqjyn\n",
            "dnetazn\n",
            "tjcfpaaw\n",
            "lxolyh\n",
            "fxeawyb\n",
            "ejegko\n",
            "jwgbqnc\n",
            "qjozwq\n",
            "xddufr\n",
            "gpsukjez\n",
            "nuwwerwh\n",
            "bfyphq\n",
            "qnsiuokg\n",
            "npctid\n",
            "ubofjgv\n",
            "azxojaw\n",
            "hbefat\n",
            "vmiyscp\n",
            "kljznsug\n",
            "lvambglh\n",
            "ofldsyhq\n",
            "zkwxya\n",
            "pimykbft\n",
            "fjpleu\n",
            "qbiwwwsd\n",
            "fmqdfbq\n",
            "iyoqwv\n",
            "jimmgkkl\n",
            "pkuufj\n",
            "opbllp\n",
            "vlvunv\n",
            "nvsecy\n",
            "umdyykv\n",
            "tsisro\n",
            "shyknen\n",
            "ojuvwyby\n",
            "bhzzsuzp\n",
            "zrfyck\n",
            "irayvvs\n",
            "purcvx\n",
            "kcgwrq\n",
            "lgelyymp\n",
            "mkodmszy\n"
          ]
        }
      ]
    },
    {
      "cell_type": "code",
      "source": [
        "#(ii)\n",
        "def is_prime(num):\n",
        "    if num <= 1:\n",
        "        return False\n",
        "    if num == 2:\n",
        "        return True  # 2 is prime\n",
        "    if num % 2 == 0:\n",
        "        return False  # other even numbers are not prime\n",
        "\n",
        "    # Check for odd factors up to sqrt(num)\n",
        "    for i in range(3, int(num**0.5) + 1, 2):\n",
        "        if num % i == 0:\n",
        "            return False\n",
        "    return True\n",
        "\n",
        "# Print prime numbers between 600 and 800\n",
        "print(\"Prime numbers between 600 and 800:\")\n",
        "for num in range(600, 801):\n",
        "    if is_prime(num):\n",
        "        print(num)\n"
      ],
      "metadata": {
        "colab": {
          "base_uri": "https://localhost:8080/"
        },
        "id": "SSojqU3nSR8n",
        "outputId": "04ada365-1715-41c9-b95d-9b0f692c0429"
      },
      "execution_count": 6,
      "outputs": [
        {
          "output_type": "stream",
          "name": "stdout",
          "text": [
            "Prime numbers between 600 and 800:\n",
            "601\n",
            "607\n",
            "613\n",
            "617\n",
            "619\n",
            "631\n",
            "641\n",
            "643\n",
            "647\n",
            "653\n",
            "659\n",
            "661\n",
            "673\n",
            "677\n",
            "683\n",
            "691\n",
            "701\n",
            "709\n",
            "719\n",
            "727\n",
            "733\n",
            "739\n",
            "743\n",
            "751\n",
            "757\n",
            "761\n",
            "769\n",
            "773\n",
            "787\n",
            "797\n"
          ]
        }
      ]
    },
    {
      "cell_type": "code",
      "source": [
        "#(iii)\n",
        "# Print numbers between 100 and 1000 that are divisible by both 7 and 9\n",
        "print(\"Numbers between 100 and 1000 divisible by 7 and 9:\")\n",
        "for num in range(100, 1001):\n",
        "    if num % 7 == 0 and num % 9 == 0:\n",
        "        print(num)\n"
      ],
      "metadata": {
        "colab": {
          "base_uri": "https://localhost:8080/"
        },
        "id": "3nINBL6JSeng",
        "outputId": "aad9c6db-4662-4bdd-fefe-538a1c63555b"
      },
      "execution_count": 7,
      "outputs": [
        {
          "output_type": "stream",
          "name": "stdout",
          "text": [
            "Numbers between 100 and 1000 divisible by 7 and 9:\n",
            "126\n",
            "189\n",
            "252\n",
            "315\n",
            "378\n",
            "441\n",
            "504\n",
            "567\n",
            "630\n",
            "693\n",
            "756\n",
            "819\n",
            "882\n",
            "945\n"
          ]
        }
      ]
    },
    {
      "cell_type": "code",
      "source": [
        "import random\n",
        "\n",
        "# Function to generate a list of 10 random numbers between 10 and 30\n",
        "def generate_random_list():\n",
        "    return [random.randint(10, 30) for _ in range(10)]\n",
        "\n",
        "# Generate two lists of random numbers\n",
        "list1 = generate_random_list()\n",
        "list2 = generate_random_list()\n",
        "\n",
        "print(\"List 1:\", list1)\n",
        "print(\"List 2:\", list2)\n",
        "\n",
        "# (i)\n",
        "common_numbers = list(set(list1).intersection(set(list2)))\n",
        "print(\"(i) Common numbers:\", common_numbers)\n",
        "\n",
        "# (ii)\n",
        "unique_list1 = list(set(list1) - set(list2))\n",
        "unique_list2 = list(set(list2) - set(list1))\n",
        "print(\"(ii) Unique numbers in List 1:\", unique_list1)\n",
        "print(\"     Unique numbers in List 2:\", unique_list2)\n",
        "\n",
        "# (iii)\n",
        "min_list1 = min(list1)\n",
        "min_list2 = min(list2)\n",
        "print(\"(iii) Minimum in List 1:\", min_list1)\n",
        "print(\"      Minimum in List 2:\", min_list2)\n",
        "\n",
        "# (iv)\n",
        "max_list1 = max(list1)\n",
        "max_list2 = max(list2)\n",
        "print(\"(iv) Maximum in List 1:\", max_list1)\n",
        "print(\"     Maximum in List 2:\", max_list2)\n",
        "\n",
        "# (v)\n",
        "sum_list1 = sum(list1)\n",
        "sum_list2 = sum(list2)\n",
        "print(\"(v) Sum of List 1:\", sum_list1)\n",
        "print(\"    Sum of List 2:\", sum_list2)\n"
      ],
      "metadata": {
        "colab": {
          "base_uri": "https://localhost:8080/"
        },
        "id": "zCjdFI_MSj0j",
        "outputId": "a51bb88e-5837-4fc4-b9a3-3ec861f27fcb"
      },
      "execution_count": 8,
      "outputs": [
        {
          "output_type": "stream",
          "name": "stdout",
          "text": [
            "List 1: [30, 24, 22, 13, 17, 13, 29, 12, 13, 21]\n",
            "List 2: [13, 18, 17, 24, 13, 19, 19, 16, 19, 22]\n",
            "(i) Common numbers: [24, 17, 13, 22]\n",
            "(ii) Unique numbers in List 1: [29, 12, 21, 30]\n",
            "     Unique numbers in List 2: [16, 18, 19]\n",
            "(iii) Minimum in List 1: 12\n",
            "      Minimum in List 2: 13\n",
            "(iv) Maximum in List 1: 30\n",
            "     Maximum in List 2: 24\n",
            "(v) Sum of List 1: 194\n",
            "    Sum of List 2: 180\n"
          ]
        }
      ]
    },
    {
      "cell_type": "code",
      "source": [
        "import random\n",
        "\n",
        "# Function to check if a number is prime\n",
        "def is_prime(num):\n",
        "    if num < 2:\n",
        "        return False\n",
        "    if num == 2:\n",
        "        return True\n",
        "    if num % 2 == 0:\n",
        "        return False\n",
        "    for i in range(3, int(num**0.5) + 1, 2):\n",
        "        if num % i == 0:\n",
        "            return False\n",
        "    return True\n",
        "\n",
        "# Generate a list of 100 random numbers between 100 and 900\n",
        "random_numbers = [random.randint(100, 900) for _ in range(100)]\n",
        "\n",
        "# Initialize lists to store odd, even, and prime numbers\n",
        "odd_numbers = []\n",
        "even_numbers = []\n",
        "prime_numbers = []\n",
        "\n",
        "# Iterate through the list and categorize numbers\n",
        "for number in random_numbers:\n",
        "    if number % 2 == 0:\n",
        "        even_numbers.append(number)\n",
        "    else:\n",
        "        odd_numbers.append(number)\n",
        "\n",
        "    if is_prime(number):\n",
        "        prime_numbers.append(number)\n",
        "\n",
        "# Print results\n",
        "print(\"List of 100 random numbers between 100 and 900:\")\n",
        "print(random_numbers)\n",
        "print()\n",
        "\n",
        "print(\"(i) All odd numbers:\")\n",
        "print(odd_numbers)\n",
        "print()\n",
        "\n",
        "print(\"(ii) All even numbers:\")\n",
        "print(even_numbers)\n",
        "print()\n",
        "\n",
        "print(\"(iii) All prime numbers:\")\n",
        "print(prime_numbers)\n"
      ],
      "metadata": {
        "colab": {
          "base_uri": "https://localhost:8080/"
        },
        "id": "6qO9Hw3_TNFc",
        "outputId": "f2037e36-84c3-4c98-8f87-c12372290d47"
      },
      "execution_count": 9,
      "outputs": [
        {
          "output_type": "stream",
          "name": "stdout",
          "text": [
            "List of 100 random numbers between 100 and 900:\n",
            "[233, 280, 179, 559, 714, 451, 463, 811, 487, 564, 249, 659, 484, 123, 414, 564, 747, 628, 430, 437, 114, 658, 216, 174, 236, 561, 637, 873, 307, 488, 256, 703, 404, 893, 318, 710, 542, 592, 397, 520, 251, 354, 483, 148, 332, 168, 592, 684, 549, 226, 497, 289, 193, 280, 186, 195, 229, 294, 397, 459, 582, 321, 211, 506, 889, 493, 816, 516, 596, 114, 453, 394, 488, 408, 653, 558, 859, 410, 154, 377, 160, 329, 816, 786, 161, 762, 588, 889, 273, 242, 465, 160, 706, 375, 291, 108, 619, 336, 183, 516]\n",
            "\n",
            "(i) All odd numbers:\n",
            "[233, 179, 559, 451, 463, 811, 487, 249, 659, 123, 747, 437, 561, 637, 873, 307, 703, 893, 397, 251, 483, 549, 497, 289, 193, 195, 229, 397, 459, 321, 211, 889, 493, 453, 653, 859, 377, 329, 161, 889, 273, 465, 375, 291, 619, 183]\n",
            "\n",
            "(ii) All even numbers:\n",
            "[280, 714, 564, 484, 414, 564, 628, 430, 114, 658, 216, 174, 236, 488, 256, 404, 318, 710, 542, 592, 520, 354, 148, 332, 168, 592, 684, 226, 280, 186, 294, 582, 506, 816, 516, 596, 114, 394, 488, 408, 558, 410, 154, 160, 816, 786, 762, 588, 242, 160, 706, 108, 336, 516]\n",
            "\n",
            "(iii) All prime numbers:\n",
            "[233, 179, 463, 811, 487, 659, 307, 397, 251, 193, 229, 397, 211, 653, 859, 619]\n"
          ]
        }
      ]
    },
    {
      "cell_type": "code",
      "source": [
        "D = {1: \"One\", 2: \"Two\", 3: \"Three\", 4: \"Four\", 5: \"Five\"}\n",
        "\n",
        "# Open a file in write mode\n",
        "with open('dictionary_output.txt', 'w') as file:\n",
        "    # Iterate over keys and values in dictionary D\n",
        "    for key, value in D.items():\n",
        "        # Write key and value to file in specified format\n",
        "        file.write(f\"{key}, {value}\\n\")\n",
        "\n",
        "print(\"Data written to file successfully.\")\n"
      ],
      "metadata": {
        "colab": {
          "base_uri": "https://localhost:8080/"
        },
        "id": "NhM3fTMRTsgO",
        "outputId": "7627a93b-c106-4e26-d8e7-68eb481654fa"
      },
      "execution_count": 10,
      "outputs": [
        {
          "output_type": "stream",
          "name": "stdout",
          "text": [
            "Data written to file successfully.\n"
          ]
        }
      ]
    },
    {
      "cell_type": "code",
      "source": [
        "L = [\"One\", \"Two\", \"Three\", \"Four\", \"Five\"]\n",
        "\n",
        "# Open a file in write mode\n",
        "with open('list_output.txt', 'w') as file:\n",
        "    # Iterate over elements in list L\n",
        "    for item in L:\n",
        "        # Calculate length of each element\n",
        "        length = len(item)\n",
        "        # Write element and its length to file in specified format\n",
        "        file.write(f\"{item}, {length}\\n\")\n",
        "\n",
        "print(\"Data written to file successfully.\")\n"
      ],
      "metadata": {
        "colab": {
          "base_uri": "https://localhost:8080/"
        },
        "id": "MmmGe03mT6cl",
        "outputId": "a47c80be-3020-434a-9582-1dd4aa4b0f40"
      },
      "execution_count": 11,
      "outputs": [
        {
          "output_type": "stream",
          "name": "stdout",
          "text": [
            "Data written to file successfully.\n"
          ]
        }
      ]
    },
    {
      "cell_type": "code",
      "source": [
        "import random\n",
        "import string\n",
        "\n",
        "# Open the file in write mode\n",
        "with open(\"random_strings.txt\", \"w\") as f:\n",
        "    # Generate 100 random strings\n",
        "    for _ in range(100):\n",
        "        # Randomly determine the length of each string (between 10 and 15)\n",
        "        length = random.randint(10, 15)\n",
        "        # Generate a random string of the determined length\n",
        "        random_string = ''.join(random.choice(string.ascii_letters + string.digits) for _ in range(length))\n",
        "        # Write the random string to the file followed by a newline character\n",
        "        f.write(random_string + \"\\n\")\n"
      ],
      "metadata": {
        "id": "nOdAHF90Vi4W"
      },
      "execution_count": 14,
      "outputs": []
    },
    {
      "cell_type": "code",
      "source": [
        "def is_prime(n):\n",
        "    \"\"\"Check if a number is prime.\"\"\"\n",
        "    if n <= 1:\n",
        "        return False\n",
        "    if n <= 3:\n",
        "        return True\n",
        "    if n % 2 == 0 or n % 3 == 0:\n",
        "        return False\n",
        "    i = 5\n",
        "    while i * i <= n:\n",
        "        if n % i == 0 or n % (i + 2) == 0:\n",
        "            return False\n",
        "        i += 6\n",
        "    return True\n",
        "\n",
        "# Open the file in write mode\n",
        "with open(\"prime_numbers.txt\", \"w\") as f:\n",
        "    # Iterate through the numbers from 600 to 800\n",
        "    for num in range(600, 801):\n",
        "        if is_prime(num):\n",
        "            f.write(f\"{num}\\n\")\n"
      ],
      "metadata": {
        "id": "MNtWxBfLVm3s"
      },
      "execution_count": 15,
      "outputs": []
    },
    {
      "cell_type": "code",
      "source": [
        "import time\n",
        "\n",
        "# Record the start time\n",
        "start_time = time.time()\n",
        "\n",
        "# Your code block here\n",
        "# For example, let's calculate the sum of all prime numbers between 600 and 800\n",
        "\n",
        "def is_prime(n):\n",
        "    \"\"\"Check if a number is prime.\"\"\"\n",
        "    if n <= 1:\n",
        "        return False\n",
        "    if n <= 3:\n",
        "        return True\n",
        "    if n % 2 == 0 or n % 3 == 0:\n",
        "        return False\n",
        "    i = 5\n",
        "    while i * i <= n:\n",
        "        if n % i == 0 or n % (i + 2) == 0:\n",
        "            return False\n",
        "        i += 6\n",
        "    return True\n",
        "\n",
        "prime_sum = 0\n",
        "for num in range(600, 801):\n",
        "    if is_prime(num):\n",
        "        prime_sum += num\n",
        "\n",
        "print(\"Sum of prime numbers between 600 and 800:\", prime_sum)\n",
        "\n",
        "# Record the end time\n",
        "end_time = time.time()\n",
        "\n",
        "# Calculate the elapsed time\n",
        "elapsed_time = end_time - start_time\n",
        "print(f\"Time taken to execute the program: {elapsed_time:.4f} seconds\")\n"
      ],
      "metadata": {
        "colab": {
          "base_uri": "https://localhost:8080/"
        },
        "id": "dpPsjNVBV1CS",
        "outputId": "ad821a52-b1f5-4392-d2d2-b485ffd029dd"
      },
      "execution_count": 16,
      "outputs": [
        {
          "output_type": "stream",
          "name": "stdout",
          "text": [
            "Sum of prime numbers between 600 and 800: 20782\n",
            "Time taken to execute the program: 0.0010 seconds\n"
          ]
        }
      ]
    },
    {
      "cell_type": "code",
      "source": [
        "pip install matplotlib\n"
      ],
      "metadata": {
        "colab": {
          "base_uri": "https://localhost:8080/"
        },
        "id": "_HhF2be2WE7s",
        "outputId": "645ad475-8454-406f-d0f2-a204322536c4"
      },
      "execution_count": 17,
      "outputs": [
        {
          "output_type": "stream",
          "name": "stdout",
          "text": [
            "Requirement already satisfied: matplotlib in /usr/local/lib/python3.10/dist-packages (3.7.1)\n",
            "Requirement already satisfied: contourpy>=1.0.1 in /usr/local/lib/python3.10/dist-packages (from matplotlib) (1.2.1)\n",
            "Requirement already satisfied: cycler>=0.10 in /usr/local/lib/python3.10/dist-packages (from matplotlib) (0.12.1)\n",
            "Requirement already satisfied: fonttools>=4.22.0 in /usr/local/lib/python3.10/dist-packages (from matplotlib) (4.53.0)\n",
            "Requirement already satisfied: kiwisolver>=1.0.1 in /usr/local/lib/python3.10/dist-packages (from matplotlib) (1.4.5)\n",
            "Requirement already satisfied: numpy>=1.20 in /usr/local/lib/python3.10/dist-packages (from matplotlib) (1.25.2)\n",
            "Requirement already satisfied: packaging>=20.0 in /usr/local/lib/python3.10/dist-packages (from matplotlib) (24.1)\n",
            "Requirement already satisfied: pillow>=6.2.0 in /usr/local/lib/python3.10/dist-packages (from matplotlib) (9.4.0)\n",
            "Requirement already satisfied: pyparsing>=2.3.1 in /usr/local/lib/python3.10/dist-packages (from matplotlib) (3.1.2)\n",
            "Requirement already satisfied: python-dateutil>=2.7 in /usr/local/lib/python3.10/dist-packages (from matplotlib) (2.8.2)\n",
            "Requirement already satisfied: six>=1.5 in /usr/local/lib/python3.10/dist-packages (from python-dateutil>=2.7->matplotlib) (1.16.0)\n"
          ]
        }
      ]
    },
    {
      "cell_type": "code",
      "source": [
        "import time\n",
        "import random\n",
        "import matplotlib.pyplot as plt\n",
        "\n",
        "# Function to measure the time taken to sort a list of a given size\n",
        "def time_sort(size):\n",
        "    # Generate a list of random numbers of the given size\n",
        "    lst = [random.randint(0, 1000000) for _ in range(size)]\n",
        "\n",
        "    # Record the start time\n",
        "    start_time = time.time()\n",
        "\n",
        "    # Sort the list\n",
        "    lst.sort()\n",
        "\n",
        "    # Record the end time\n",
        "    end_time = time.time()\n",
        "\n",
        "    # Calculate the elapsed time\n",
        "    elapsed_time = end_time - start_time\n",
        "\n",
        "    return elapsed_time\n",
        "\n",
        "# List of sizes to test\n",
        "sizes = [5000, 10000, 15000, 20000, 25000]\n",
        "times = []\n",
        "\n",
        "# Measure the time taken for each size\n",
        "for size in sizes:\n",
        "    t = time_sort(size)\n",
        "    times.append(t)\n",
        "    print(f\"Time taken to sort list of size {size}: {t:.4f} seconds\")\n",
        "\n",
        "# Plot the results\n",
        "plt.figure(figsize=(10, 6))\n",
        "plt.plot(sizes, times, marker='o')\n",
        "plt.title('Time taken to sort lists of different sizes')\n",
        "plt.xlabel('Number of elements in list')\n",
        "plt.ylabel('Time taken (seconds)')\n",
        "plt.grid(True)\n",
        "plt.show()\n"
      ],
      "metadata": {
        "colab": {
          "base_uri": "https://localhost:8080/",
          "height": 651
        },
        "id": "IwWPxy7WWhSS",
        "outputId": "488b6d59-5f2f-497f-d36f-8872d3131d24"
      },
      "execution_count": 18,
      "outputs": [
        {
          "output_type": "stream",
          "name": "stdout",
          "text": [
            "Time taken to sort list of size 5000: 0.0052 seconds\n",
            "Time taken to sort list of size 10000: 0.0026 seconds\n",
            "Time taken to sort list of size 15000: 0.0041 seconds\n",
            "Time taken to sort list of size 20000: 0.0060 seconds\n",
            "Time taken to sort list of size 25000: 0.0079 seconds\n"
          ]
        },
        {
          "output_type": "display_data",
          "data": {
            "text/plain": [
              "<Figure size 1000x600 with 1 Axes>"
            ],
            "image/png": "[encoded data removed]"
          },
          "metadata": {}
        }
      ]
    },
    {
      "cell_type": "code",
      "source": [
        "# Dictionary of student marks\n",
        "student_marks = {\n",
        "    'Alice': [85, 92, 78, 90, 88],\n",
        "    'Bob': [78, 81, 85, 79, 83],\n",
        "    'Charlie': [92, 88, 84, 91, 87],\n",
        "    'David': [65, 70, 72, 68, 66],\n",
        "    'Eve': [90, 94, 89, 93, 91]\n",
        "}\n",
        "\n",
        "# Function to calculate the average marks\n",
        "def calculate_average(marks):\n",
        "    return sum(marks) / len(marks)\n",
        "\n",
        "# Dictionary to store the average marks of each student\n",
        "average_marks = {student: calculate_average(marks) for student, marks in student_marks.items()}\n",
        "\n",
        "# Find the student with the maximum average marks\n",
        "max_avg_student = max(average_marks, key=average_marks.get)\n",
        "max_avg_marks = average_marks[max_avg_student]\n",
        "\n",
        "# Find the student with the minimum average marks\n",
        "min_avg_student = min(average_marks, key=average_marks.get)\n",
        "min_avg_marks = average_marks[min_avg_student]\n",
        "\n",
        "print(f\"Student with maximum average marks: {max_avg_student} ({max_avg_marks:.2f})\")\n",
        "print(f\"Student with minimum average marks: {min_avg_student} ({min_avg_marks:.2f})\")\n"
      ],
      "metadata": {
        "colab": {
          "base_uri": "https://localhost:8080/"
        },
        "id": "l5VRHAqZWlfV",
        "outputId": "f5e432e6-c574-40f4-e03a-91afbb310146"
      },
      "execution_count": 19,
      "outputs": [
        {
          "output_type": "stream",
          "name": "stdout",
          "text": [
            "Student with maximum average marks: Eve (91.40)\n",
            "Student with minimum average marks: David (68.20)\n"
          ]
        }
      ]
    }
  ]
}